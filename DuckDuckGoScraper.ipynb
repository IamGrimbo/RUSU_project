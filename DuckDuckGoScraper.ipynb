{
  "cells": [
    {
      "cell_type": "code",
      "execution_count": null,
      "id": "4af19735",
      "metadata": {
        "id": "4af19735"
      },
      "outputs": [],
      "source": [
        "!pip install -q jmd_imagescraper"
      ]
    },
    {
      "cell_type": "code",
      "execution_count": null,
      "id": "77b319b2",
      "metadata": {
        "id": "77b319b2",
        "outputId": "2ccfc40a-32dd-4f5c-b150-5911381c30dd"
      },
      "outputs": [
        {
          "name": "stdout",
          "output_type": "stream",
          "text": [
            "Duckduckgo search: Blouse\n",
            "Hit request throttle, sleeping and retrying\n",
            "Hit request throttle, sleeping and retrying\n",
            "Hit request throttle, sleeping and retrying\n",
            "Hit request throttle, sleeping and retrying\n",
            "Hit request throttle, sleeping and retrying\n",
            "Hit request throttle, sleeping and retrying\n",
            "Hit request throttle, sleeping and retrying\n",
            "Hit request throttle, sleeping and retrying\n",
            "Hit request throttle, sleeping and retrying\n",
            "Hit request throttle, sleeping and retrying\n",
            "Hit request throttle, sleeping and retrying\n",
            "Hit request throttle, sleeping and retrying\n",
            "Hit request throttle, sleeping and retrying\n",
            "Hit request throttle, sleeping and retrying\n",
            "Hit request throttle, sleeping and retrying\n",
            "Hit request throttle, sleeping and retrying\n",
            "Hit request throttle, sleeping and retrying\n",
            "Hit request throttle, sleeping and retrying\n",
            "Hit request throttle, sleeping and retrying\n",
            "Hit request throttle, sleeping and retrying\n",
            "Hit request throttle, sleeping and retrying\n",
            "Hit request throttle, sleeping and retrying\n",
            "Hit request throttle, sleeping and retrying\n",
            "Hit request throttle, sleeping and retrying\n",
            "Hit request throttle, sleeping and retrying\n",
            "Hit request throttle, sleeping and retrying\n",
            "Hit request throttle, sleeping and retrying\n",
            "Hit request throttle, sleeping and retrying\n",
            "Hit request throttle, sleeping and retrying\n",
            "Hit request throttle, sleeping and retrying\n",
            "Hit request throttle, sleeping and retrying\n",
            "Hit request throttle, sleeping and retrying\n",
            "Hit request throttle, sleeping and retrying\n",
            "Hit request throttle, sleeping and retrying\n",
            "Hit request throttle, sleeping and retrying\n",
            "Hit request throttle, sleeping and retrying\n",
            "Hit request throttle, sleeping and retrying\n",
            "Hit request throttle, sleeping and retrying\n",
            "Hit request throttle, sleeping and retrying\n",
            "Hit request throttle, sleeping and retrying\n",
            "Hit request throttle, sleeping and retrying\n",
            "Hit request throttle, sleeping and retrying\n",
            "Hit request throttle, sleeping and retrying\n",
            "Hit request throttle, sleeping and retrying\n",
            "Hit request throttle, sleeping and retrying\n",
            "Hit request throttle, sleeping and retrying\n",
            "Hit request throttle, sleeping and retrying\n",
            "Hit request throttle, sleeping and retrying\n",
            "Hit request throttle, sleeping and retrying\n",
            "Hit request throttle, sleeping and retrying\n",
            "Hit request throttle, sleeping and retrying\n",
            "Hit request throttle, sleeping and retrying\n",
            "Hit request throttle, sleeping and retrying\n",
            "Hit request throttle, sleeping and retrying\n",
            "Hit request throttle, sleeping and retrying\n",
            "Hit request throttle, sleeping and retrying\n",
            "Hit request throttle, sleeping and retrying\n",
            "Hit request throttle, sleeping and retrying\n",
            "Hit request throttle, sleeping and retrying\n",
            "Hit request throttle, sleeping and retrying\n",
            "Hit request throttle, sleeping and retrying\n",
            "Hit request throttle, sleeping and retrying\n",
            "Hit request throttle, sleeping and retrying\n",
            "Hit request throttle, sleeping and retrying\n",
            "Hit request throttle, sleeping and retrying\n",
            "Hit request throttle, sleeping and retrying\n",
            "Hit request throttle, sleeping and retrying\n"
          ]
        }
      ],
      "source": [
        "from pathlib import Path\n",
        "root = Path().cwd()/\"images\"\n",
        "\n",
        "from jmd_imagescraper.core import * # dont't worry, it's designed to work with import *\n",
        "\n",
        "duckduckgo_search(root, \"Apple Braeburn\", \"Apple Braeburn\", max_results=10)\n"
      ]
    },
    {
      "cell_type": "code",
      "execution_count": null,
      "id": "6e95015e",
      "metadata": {
        "id": "6e95015e"
      },
      "outputs": [],
      "source": []
    }
  ],
  "metadata": {
    "kernelspec": {
      "display_name": "Python 3 (ipykernel)",
      "language": "python",
      "name": "python3"
    },
    "language_info": {
      "codemirror_mode": {
        "name": "ipython",
        "version": 3
      },
      "file_extension": ".py",
      "mimetype": "text/x-python",
      "name": "python",
      "nbconvert_exporter": "python",
      "pygments_lexer": "ipython3",
      "version": "3.10.9"
    },
    "colab": {
      "provenance": []
    }
  },
  "nbformat": 4,
  "nbformat_minor": 5
}